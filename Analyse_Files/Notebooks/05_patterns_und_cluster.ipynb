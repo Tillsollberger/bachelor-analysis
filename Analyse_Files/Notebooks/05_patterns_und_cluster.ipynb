{
 "cells": [
  {
   "cell_type": "code",
   "execution_count": null,
   "id": "b794f827",
   "metadata": {},
   "outputs": [],
   "source": [
    "# Setup\n",
    "import pandas as pd\n",
    "import os\n",
    "import sys\n",
    "import matplotlib.pyplot as plt\n",
    "import seaborn as sns\n",
    "\n",
    "from sklearn.preprocessing import StandardScaler\n",
    "from sklearn.decomposition import PCA\n",
    "from sklearn.cluster import KMeans\n",
    "\n",
    "# Load Excel data\n",
    "sys.path.append(os.path.abspath(\"..\"))\n",
    "file_path = os.path.join(\"..\", \"Data\", \"Fertige Tabelle.xlsx\")\n",
    "df = pd.read_excel(file_path)\n",
    "df.columns = df.columns.str.strip()\n",
    "from lists import likert_mapping, likert_questions\n",
    "\n",
    "# Convert Likert-scale responses to numeric values\n",
    "df_numeric = df[likert_questions].replace(likert_mapping)\n",
    "\n",
    "# Drop rows with missing values in the selected columns\n",
    "df_numeric = df_numeric.dropna()\n",
    "\n",
    "# Standardize the data\n",
    "scaler = StandardScaler()\n",
    "scaled_data = scaler.fit_transform(df_numeric)\n",
    "\n",
    "# Apply PCA\n",
    "pca = PCA(n_components=2)\n",
    "pca_result = pca.fit_transform(scaled_data)\n",
    "\n",
    "# Apply KMeans clustering (you can change n_clusters)\n",
    "kmeans = KMeans(n_clusters=3, random_state=42)\n",
    "clusters = kmeans.fit_predict(pca_result)\n",
    "\n",
    "# Add results back to DataFrame\n",
    "df_plot = pd.DataFrame(pca_result, columns=[\"PC1\", \"PC2\"])\n",
    "df_plot[\"Cluster\"] = clusters\n",
    "\n",
    "# Plotting\n",
    "plt.figure(figsize=(10, 7))\n",
    "sns.scatterplot(data=df_plot, x=\"PC1\", y=\"PC2\", hue=\"Cluster\", palette=\"tab10\", s=100)\n",
    "plt.title(\"PCA of Likert-scale AI Attitudes (KMeans Clustering)\")\n",
    "plt.xlabel(\"Principal Component 1\")\n",
    "plt.ylabel(\"Principal Component 2\")\n",
    "plt.legend(title=\"Cluster\", loc=\"best\")\n",
    "plt.grid(True)\n",
    "plt.tight_layout()\n",
    "plt.show()\n"
   ]
  }
 ],
 "metadata": {
  "kernelspec": {
   "display_name": "Python 3",
   "language": "python",
   "name": "python3"
  },
  "language_info": {
   "codemirror_mode": {
    "name": "ipython",
    "version": 3
   },
   "file_extension": ".py",
   "mimetype": "text/x-python",
   "name": "python",
   "nbconvert_exporter": "python",
   "pygments_lexer": "ipython3",
   "version": "3.13.5"
  }
 },
 "nbformat": 4,
 "nbformat_minor": 5
}
